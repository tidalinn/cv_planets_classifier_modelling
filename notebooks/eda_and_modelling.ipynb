{
 "cells": [
  {
   "cell_type": "markdown",
   "id": "98c49b00",
   "metadata": {},
   "source": [
    "# Классификация спутниковых снимков"
   ]
  },
  {
   "cell_type": "markdown",
   "id": "db7a58a5",
   "metadata": {},
   "source": [
    "Свойство | Значение\n",
    "-|-\n",
    "Источник данных | [Kaggle (planets-dataset)](https://www.kaggle.com/datasets/nikitarom/planets-dataset/data)\n",
    "Характер данных | Спутниковые снимки Амазонки\n",
    "Задача | Мульти-классовая классификация\n",
    "Инструменты | Python, Pandas, PyTorch, Scikit-learn, ResNet50"
   ]
  },
  {
   "cell_type": "markdown",
   "id": "3bb450c0",
   "metadata": {},
   "source": [
    "## Содержание"
   ]
  },
  {
   "cell_type": "markdown",
   "id": "30fce748",
   "metadata": {},
   "source": [
    "- [Подготовка окружения](#подготовка-окружения)\n",
    "- [EDA](#eda)\n",
    "    - [Наборы данных](#наборы-данных)\n",
    "    - [Анализ](#анализ)\n",
    "- [Обучение](#обучение)\n",
    "- [Тестирование](#тестирование)"
   ]
  },
  {
   "cell_type": "markdown",
   "id": "72775b5f",
   "metadata": {},
   "source": [
    "---"
   ]
  },
  {
   "cell_type": "markdown",
   "id": "1926610a",
   "metadata": {},
   "source": [
    "## Подготовка окружения"
   ]
  },
  {
   "cell_type": "markdown",
   "id": "28998650",
   "metadata": {},
   "source": [
    "Установка библиотек:"
   ]
  },
  {
   "cell_type": "code",
   "execution_count": null,
   "id": "65e0bbe1",
   "metadata": {},
   "outputs": [],
   "source": [
    "!pip install pandas numpy opencv-python matplotlib pathlib torch torchvision torchsummary scikit-learn"
   ]
  },
  {
   "cell_type": "markdown",
   "id": "5e23563a",
   "metadata": {},
   "source": [
    "Импорт библиотек:"
   ]
  },
  {
   "cell_type": "code",
   "execution_count": null,
   "id": "c1fe28a5",
   "metadata": {},
   "outputs": [],
   "source": [
    "import pandas as pd\n",
    "import numpy as np\n",
    "import matplotlib.pyplot as plt\n",
    "from pathlib import Path\n",
    "from typing import Tuple, List, Union\n",
    "from tqdm.notebook import tqdm\n",
    "from sklearn.preprocessing import MultiLabelBinarizer\n",
    "from sklearn.model_selection import train_test_split\n",
    "from sklearn.metrics import fbeta_score\n",
    "from torchvision import transforms as T\n",
    "from torchvision import models\n",
    "from torchsummary import summary\n",
    "from torch.utils.data import DataLoader, Dataset\n",
    "from torch.optim import Adam\n",
    "from torch.optim.lr_scheduler import StepLR\n",
    "import torch\n",
    "import torch.nn as nn\n",
    "import cv2 as cv\n",
    "import os\n",
    "import random"
   ]
  },
  {
   "cell_type": "markdown",
   "id": "9feaa716",
   "metadata": {},
   "source": [
    "Фиксация случайных чисел:"
   ]
  },
  {
   "cell_type": "code",
   "execution_count": null,
   "id": "d952226d",
   "metadata": {},
   "outputs": [],
   "source": [
    "SEED = 12345\n",
    "\n",
    "random.seed(SEED)\n",
    "np.random.seed(SEED)\n",
    "torch.manual_seed(SEED)"
   ]
  },
  {
   "cell_type": "markdown",
   "id": "919acad2",
   "metadata": {},
   "source": [
    "Определение текущего устройства и количества доступных ядер:"
   ]
  },
  {
   "cell_type": "code",
   "execution_count": null,
   "id": "99978e98",
   "metadata": {},
   "outputs": [],
   "source": [
    "DEVICE = 'cuda' if torch.cuda.is_available() else 'cpu'\n",
    "print(f'Current device: {DEVICE}')"
   ]
  },
  {
   "cell_type": "markdown",
   "id": "f5d37358",
   "metadata": {},
   "source": [
    "---"
   ]
  },
  {
   "cell_type": "markdown",
   "id": "cbf9b181",
   "metadata": {},
   "source": [
    "## EDA"
   ]
  },
  {
   "cell_type": "markdown",
   "id": "5d517bb7",
   "metadata": {},
   "source": [
    "Объявление пути до папки с набором данных:"
   ]
  },
  {
   "cell_type": "code",
   "execution_count": null,
   "id": "b6fcabfe",
   "metadata": {},
   "outputs": [],
   "source": [
    "PATH = Path('../dataset')"
   ]
  },
  {
   "cell_type": "markdown",
   "id": "30257350",
   "metadata": {},
   "source": [
    "Выведение содержимого папки с набором данных:"
   ]
  },
  {
   "cell_type": "code",
   "execution_count": null,
   "id": "351efe9b",
   "metadata": {},
   "outputs": [],
   "source": [
    "for root, dirs, files in os.walk(str(PATH)):\n",
    "    level = root.replace(str(PATH), '').count(os.sep)\n",
    "    indent = ' ' * 4 * level\n",
    "    subindent = ' ' * 4 * (level + 1)\n",
    "\n",
    "    print(f'{indent}{os.path.basename(root)}/')\n",
    "\n",
    "    counter = 0\n",
    "    counter_max = 3\n",
    "    counter_stop = False\n",
    "\n",
    "    if len(files) > 0:\n",
    "        print(f'{indent}[{len(files)} files]')\n",
    "\n",
    "    for file in files:\n",
    "        if file.lower().endswith('.jpg'):\n",
    "            if counter < counter_max:\n",
    "                print(f'{subindent}{file}')\n",
    "                counter += 1\n",
    "            elif not counter_stop:\n",
    "                print(f'{subindent}...')\n",
    "                counter_stop = True\n",
    "        else:\n",
    "            print(f'{subindent}{file}')"
   ]
  },
  {
   "cell_type": "markdown",
   "id": "b52ea45d",
   "metadata": {},
   "source": [
    "Объявление путей до наборов данных:"
   ]
  },
  {
   "cell_type": "code",
   "execution_count": null,
   "id": "4881d87b",
   "metadata": {},
   "outputs": [],
   "source": [
    "PATH_TRAIN = PATH / 'planet' / 'planet' / 'train-jpg'\n",
    "PATH_TEST = PATH / 'planet' / 'planet' / 'test-jpg'\n",
    "PATH_TEST_ADDITIONAL = PATH / 'test-jpg-additional' / 'test-jpg-additional'"
   ]
  },
  {
   "cell_type": "markdown",
   "id": "07091982",
   "metadata": {},
   "source": [
    "### Наборы данных"
   ]
  },
  {
   "cell_type": "markdown",
   "id": "4ad38dbe",
   "metadata": {},
   "source": [
    "Объявление функции, выводящей информацию о данных:"
   ]
  },
  {
   "cell_type": "code",
   "execution_count": null,
   "id": "f3b698a2",
   "metadata": {},
   "outputs": [],
   "source": [
    "def print_data_info(data: pd.DataFrame):    \n",
    "    display(data.head())\n",
    "\n",
    "    print(f'Data shape: {data.shape}\\n')\n",
    "\n",
    "    for column in data.columns:\n",
    "        print(column)\n",
    "        indent = ' ' * 4\n",
    "\n",
    "        print(f'{indent}Uniques: {len(data[column].unique())}')\n",
    "        print(f'{indent}Nans: {data[column].isna().sum()}')\n",
    "\n",
    "        if column == 'image_name':\n",
    "            print(f\"{indent}Variety of names: {data[column].str.split('_').apply(lambda x: x[0]).unique()}\")"
   ]
  },
  {
   "cell_type": "markdown",
   "id": "7bd6a395",
   "metadata": {},
   "source": [
    "Загрузка тестового наборов данных:"
   ]
  },
  {
   "cell_type": "code",
   "execution_count": null,
   "id": "90316818",
   "metadata": {},
   "outputs": [],
   "source": [
    "data_test_full = pd.read_csv(PATH / 'planet' / 'planet' / 'sample_submission.csv')\n",
    "print_data_info(data_test_full)"
   ]
  },
  {
   "cell_type": "markdown",
   "id": "2d4c2201",
   "metadata": {},
   "source": [
    ">**NB-1**\n",
    ">\n",
    ">Столбец `image_name` содержит два вида названий файлов: `test_*` и `file_*`. Поскольку в директории `test-jpg-additional` располагаются файлы с названиями вида `file_*`, необходимо проверить, соответствует ли: \n",
    ">* Количество строк вида `test_*` количеству файлов в директории `test-jpg`\n",
    ">* Количество строк в `file_*` количеству файлов в директории `test-jpg-additional`\n",
    ">\n",
    ">**NB-2**\n",
    ">\n",
    ">Столбец `tags` содержит разделённые пробелами значения классов. Поскольку каждое изображение может одновременно относиться к нескольким категориям, необходимо преобразовать строковые значения к списку отдельных меток."
   ]
  },
  {
   "cell_type": "markdown",
   "id": "263df324",
   "metadata": {},
   "source": [
    "Сравнение количества строк с количеством файлов:"
   ]
  },
  {
   "cell_type": "code",
   "execution_count": null,
   "id": "88d5a195",
   "metadata": {},
   "outputs": [],
   "source": [
    "assert data_test_full[data_test_full.image_name.str.contains('test')].shape[0] == len(os.listdir(PATH_TEST))\n",
    "assert data_test_full[data_test_full.image_name.str.contains('file')].shape[0] == len(os.listdir(PATH_TEST_ADDITIONAL))"
   ]
  },
  {
   "cell_type": "markdown",
   "id": "8a6e4a5a",
   "metadata": {},
   "source": [
    ">* Количество строк вида `test_*` соответствует количеству файлов в директории `test-jpg`\n",
    ">* Количество строк в `file_*` соответствует количеству файлов в директории `test-jpg-additional`"
   ]
  },
  {
   "cell_type": "markdown",
   "id": "03279bb8",
   "metadata": {},
   "source": [
    "Преобразование строковых значений к списку меток:"
   ]
  },
  {
   "cell_type": "code",
   "execution_count": null,
   "id": "24b0c345",
   "metadata": {},
   "outputs": [],
   "source": [
    "data_test_full['tags'] = data_test_full.tags.str.split()\n",
    "data_test_full.head()"
   ]
  },
  {
   "cell_type": "markdown",
   "id": "dada76d2",
   "metadata": {},
   "source": [
    "Разделение тестового набора данных по названиям файлов в разных папках:"
   ]
  },
  {
   "cell_type": "code",
   "execution_count": null,
   "id": "b07bd7ac",
   "metadata": {},
   "outputs": [],
   "source": [
    "data_test = data_test_full[data_test_full.image_name.str.contains('test')]\n",
    "data_test_additional = data_test_full[data_test_full.image_name.str.contains('file')]"
   ]
  },
  {
   "cell_type": "markdown",
   "id": "b8082510",
   "metadata": {},
   "source": [
    "Загрузка обучающего набора данных:"
   ]
  },
  {
   "cell_type": "code",
   "execution_count": null,
   "id": "581ef78e",
   "metadata": {},
   "outputs": [],
   "source": [
    "data_train = pd.read_csv(PATH / 'planet' / 'planet' / 'train_classes.csv')\n",
    "print_data_info(data_train)"
   ]
  },
  {
   "cell_type": "markdown",
   "id": "0b63f944",
   "metadata": {},
   "source": [
    "Преобразование строковых значений к списку меток:"
   ]
  },
  {
   "cell_type": "code",
   "execution_count": null,
   "id": "757a41ba",
   "metadata": {},
   "outputs": [],
   "source": [
    "data_train['tags'] = data_train.tags.str.split()\n",
    "data_train.head()"
   ]
  },
  {
   "cell_type": "markdown",
   "id": "8549b02d",
   "metadata": {},
   "source": [
    "### Анализ"
   ]
  },
  {
   "cell_type": "markdown",
   "id": "96a7382a",
   "metadata": {},
   "source": [
    "Построение графика распределения классов по обучающему набору данных:"
   ]
  },
  {
   "cell_type": "code",
   "execution_count": null,
   "id": "620fce27",
   "metadata": {},
   "outputs": [],
   "source": [
    "tags_in_data_train_classes = (\n",
    "    pd.Series([\n",
    "        tag \n",
    "        for row in data_train.tags.values \n",
    "        for tag in row\n",
    "    ])\n",
    "    .value_counts()\n",
    "    .reset_index()\n",
    "    .sort_values(by='count', ascending=True)\n",
    ")\n",
    "\n",
    "tags_in_data_train_classes.columns = ['tags', 'count']\n",
    "\n",
    "print(f'Total tags: {tags_in_data_train_classes.shape[0]}')\n",
    "\n",
    "tags_in_data_train_classes.plot(\n",
    "    x='tags',\n",
    "    y='count',\n",
    "    kind='barh',\n",
    "    figsize=(7, 5),\n",
    "    title='Tags distribution\\n',\n",
    "    xlabel='count',\n",
    "    ylabel='tags',\n",
    "    grid=True,\n",
    "    legend=False\n",
    ")\n",
    "plt.show()"
   ]
  },
  {
   "cell_type": "markdown",
   "id": "611c7d78",
   "metadata": {},
   "source": [
    ">**NB**\n",
    ">\n",
    ">Набор данных несбалансирован по классам."
   ]
  },
  {
   "cell_type": "markdown",
   "id": "f198b68b",
   "metadata": {},
   "source": [
    "Объявление списков классов и редких классов:"
   ]
  },
  {
   "cell_type": "code",
   "execution_count": null,
   "id": "5749cf69",
   "metadata": {},
   "outputs": [],
   "source": [
    "TAGS = tags_in_data_train_classes.tags.values\n",
    "TAGS_RARE = tags_in_data_train_classes.query('count < 2000').tags.values\n",
    "\n",
    "TAGS_RARE"
   ]
  },
  {
   "cell_type": "markdown",
   "id": "58528949",
   "metadata": {},
   "source": [
    "Проверка наличия в тестовом наборе данных значений классов, которые отсутствуют в обучающем наборе данных:"
   ]
  },
  {
   "cell_type": "code",
   "execution_count": null,
   "id": "40c1e610",
   "metadata": {},
   "outputs": [],
   "source": [
    "for tag in data_test.tags.values[0]:\n",
    "    if tag not in tags_in_data_train_classes.tags.values:\n",
    "        print(f'Tag {tag} does not exist in train tags')"
   ]
  },
  {
   "cell_type": "markdown",
   "id": "98e6f598",
   "metadata": {},
   "source": [
    ">Во всех наборах данных представлены одни и те же классы."
   ]
  },
  {
   "cell_type": "markdown",
   "id": "f6607c68",
   "metadata": {},
   "source": [
    "Объявление функции, выводящий образцы изображений по каждому из классов:"
   ]
  },
  {
   "cell_type": "code",
   "execution_count": null,
   "id": "91ecc8c1",
   "metadata": {},
   "outputs": [],
   "source": [
    "def display_images(labels: pd.Series, data: pd.DataFrame, path: Path, cols: int = 5, height: float = 0.7):\n",
    "    images = []\n",
    "\n",
    "    for tag in labels.values:\n",
    "        data_with_tag = data[data.tags.apply(lambda x: tag in x)]\n",
    "\n",
    "        if data_with_tag.shape[0] > 0:\n",
    "            images.append((tag, data_with_tag))\n",
    "\n",
    "    n_tags = len(images)\n",
    "\n",
    "    rows = (n_tags + cols - 1) // cols\n",
    "\n",
    "    fig, axes = plt.subplots(rows, cols, figsize=(10, n_tags * height))\n",
    "    axes = axes.flatten()\n",
    "\n",
    "    plt.suptitle('Images with tags\\n', fontsize=14)\n",
    "\n",
    "    for index, (tag, data_with_tag) in enumerate(images):        \n",
    "        index_random = np.random.randint(data_with_tag.shape[0])\n",
    "        image_file_name = data_with_tag.image_name.values[index_random]\n",
    "\n",
    "        image = cv.imread(str(path / f'{image_file_name}.jpg'))\n",
    "        image = cv.cvtColor(image, cv.COLOR_BGR2RGB)\n",
    "\n",
    "        image_tags = data_with_tag.tags.values[index_random]\n",
    "        \n",
    "        axes[index].text(\n",
    "            x=0.5, \n",
    "            y=1.15 + 0.09 * len(image_tags), \n",
    "            s=tag, \n",
    "            fontweight='bold',\n",
    "            fontsize=10,\n",
    "            ha='center', \n",
    "            transform=axes[index].transAxes\n",
    "        )\n",
    "\n",
    "        axes[index].text(\n",
    "            x=0.5, \n",
    "            y=1.15, \n",
    "            s='\\n'.join(image_tags),\n",
    "            fontsize=8,\n",
    "            ha='center', \n",
    "            transform=axes[index].transAxes\n",
    "        )\n",
    "\n",
    "        axes[index].text(\n",
    "            x=0.5, \n",
    "            y=1.05, \n",
    "            s=image.shape,\n",
    "            fontsize=8,\n",
    "            ha='center', \n",
    "            transform=axes[index].transAxes\n",
    "        )\n",
    "\n",
    "        axes[index].imshow(image)\n",
    "        axes[index].axis('off')\n",
    "\n",
    "    for i in range(n_tags, len(axes)):\n",
    "        axes[i].axis('off')\n",
    "\n",
    "    plt.show()"
   ]
  },
  {
   "cell_type": "markdown",
   "id": "7f26582e",
   "metadata": {},
   "source": [
    "Выведение изображений по каждому классу в тестовом наборе данных:"
   ]
  },
  {
   "cell_type": "code",
   "execution_count": null,
   "id": "81cfee94",
   "metadata": {},
   "outputs": [],
   "source": [
    "display_images(\n",
    "    labels=tags_in_data_train_classes.tags, \n",
    "    data=data_test[\n",
    "        data_test.image_name.str.contains('test')\n",
    "    ], \n",
    "    path=PATH_TEST,\n",
    "    height=0.8\n",
    ")"
   ]
  },
  {
   "cell_type": "markdown",
   "id": "4df3ae29",
   "metadata": {},
   "source": [
    "Выведение изображений по каждому классу в обучающем наборе данных:"
   ]
  },
  {
   "cell_type": "code",
   "execution_count": null,
   "id": "63b0d2f7",
   "metadata": {},
   "outputs": [],
   "source": [
    "display_images(\n",
    "    labels=tags_in_data_train_classes.tags, \n",
    "    data=data_train, \n",
    "    path=PATH_TRAIN\n",
    ")"
   ]
  },
  {
   "cell_type": "markdown",
   "id": "f95a34dd",
   "metadata": {},
   "source": [
    "## Обучение"
   ]
  },
  {
   "cell_type": "markdown",
   "id": "47aa8fb4",
   "metadata": {},
   "source": [
    "Разделение тренировочного набора данных на обучающую и валидационную выборки:"
   ]
  },
  {
   "cell_type": "code",
   "execution_count": null,
   "id": "339bd8a1",
   "metadata": {},
   "outputs": [],
   "source": [
    "X_train, X_valid = train_test_split(data_train, test_size=0.2)\n",
    "\n",
    "X_train = X_train.reset_index(drop=True)\n",
    "X_valid = X_valid.reset_index(drop=True)\n",
    "\n",
    "print(f'X train shape: {X_train.shape}')\n",
    "print(f'X valid shape: {X_valid.shape}')"
   ]
  },
  {
   "cell_type": "markdown",
   "id": "5c2594b3",
   "metadata": {},
   "source": [
    "Объявление значений на основе датасета Imagenet:"
   ]
  },
  {
   "cell_type": "code",
   "execution_count": null,
   "id": "0b6b6a7b",
   "metadata": {},
   "outputs": [],
   "source": [
    "IMAGENET = {\n",
    "    'size': 224,\n",
    "    'mean': [0.485, 0.456, 0.406],\n",
    "    'std': [0.229, 0.224, 0.225]\n",
    "}"
   ]
  },
  {
   "cell_type": "markdown",
   "id": "03ac1cea",
   "metadata": {},
   "source": [
    "Объявление класса, формирующего кастомный датасет:"
   ]
  },
  {
   "cell_type": "code",
   "execution_count": null,
   "id": "739844f5",
   "metadata": {},
   "outputs": [],
   "source": [
    "class PlanetDataset(Dataset):\n",
    "\n",
    "    def __init__(self, data: pd.DataFrame, labels: List[List[int]], path: Path, transform: T.Compose = None):\n",
    "        super().__init__()\n",
    "        self.data = data\n",
    "        self.labels = labels\n",
    "        self.path = path\n",
    "        self.transform = transform\n",
    "    \n",
    "\n",
    "    def __len__(self):\n",
    "        return len(self.data)\n",
    "\n",
    "\n",
    "    def __getitem__(self, index: int) -> Tuple[np.ndarray, str]:\n",
    "        path_image = f'{self.data.image_name[index]}.jpg'\n",
    "        label = torch.tensor(self.labels[index]).float()\n",
    "\n",
    "        image = cv.imread(str(self.path / path_image))\n",
    "        image = cv.cvtColor(image, cv.COLOR_BGR2RGB)\n",
    "\n",
    "        if self.transform:\n",
    "            image = self.transform(image)\n",
    "        \n",
    "        return image, label\n",
    "    \n",
    "\n",
    "    def _untransform(self, image: Union[np.ndarray | torch.Tensor]):\n",
    "        image_untensored = image.clone().permute(1, 2, 0).numpy()  # CHW -> HWC\n",
    "        image_unnormalized = image_untensored * IMAGENET.get('std') + IMAGENET.get('mean')\n",
    "        return np.clip(image_unnormalized, 0, 1)\n",
    "    \n",
    "\n",
    "    def display_image(self, index: int):\n",
    "        image, label = self[index]\n",
    "        label = f'{self.data.tags[index]}\\n{label}'\n",
    "\n",
    "        if self.transform:\n",
    "            image = self._untransform(image)\n",
    "\n",
    "        plt.figure(figsize=(4, 4))\n",
    "        plt.title(f'{label}\\n')\n",
    "        plt.imshow(image)\n",
    "        plt.axis('off')\n",
    "        plt.show()\n"
   ]
  },
  {
   "cell_type": "markdown",
   "id": "5d3ac47c",
   "metadata": {},
   "source": [
    "Объявление сущностей для обучения модели:"
   ]
  },
  {
   "cell_type": "code",
   "execution_count": null,
   "id": "57db183f",
   "metadata": {},
   "outputs": [],
   "source": [
    "encoder = MultiLabelBinarizer()\n",
    "ohe_tags_train = encoder.fit_transform(X_train.tags.values)\n",
    "ohe_tags_valid = encoder.transform(X_valid.tags.values)\n",
    "\n",
    "transform_train = T.Compose([\n",
    "    T.ToPILImage(),\n",
    "    T.Resize(IMAGENET.get('size')),\n",
    "    T.RandomHorizontalFlip(),\n",
    "    T.RandomVerticalFlip(),\n",
    "    T.RandomRotation(degrees=45),\n",
    "    T.ColorJitter(\n",
    "        brightness=0.2, \n",
    "        contrast=0.2, \n",
    "        saturation=0.2, \n",
    "        hue=0.05\n",
    "    ),\n",
    "    T.ToTensor(),\n",
    "    T.Normalize(\n",
    "        mean=IMAGENET.get('mean'),\n",
    "        std=IMAGENET.get('std')\n",
    "    )\n",
    "])\n",
    "\n",
    "transform_valid = T.Compose([\n",
    "    T.ToPILImage(),\n",
    "    T.Resize(IMAGENET.get('size')),\n",
    "    T.ToTensor(),\n",
    "    T.Normalize(\n",
    "        mean=IMAGENET.get('mean'),\n",
    "        std=IMAGENET.get('std')\n",
    "    )\n",
    "])\n",
    "\n",
    "dataset_train = PlanetDataset(\n",
    "    data=X_train, \n",
    "    labels=ohe_tags_train, \n",
    "    path=PATH_TRAIN, \n",
    "    transform=transform_train\n",
    ")\n",
    "\n",
    "dataset_valid = PlanetDataset(\n",
    "    data=X_valid, \n",
    "    labels=ohe_tags_valid, \n",
    "    path=PATH_TRAIN, \n",
    "    transform=transform_valid\n",
    ")\n",
    "\n",
    "BATCH_SIZE = 64\n",
    "\n",
    "dataloader_train = DataLoader(\n",
    "    dataset_train,\n",
    "    batch_size=BATCH_SIZE,\n",
    "    shuffle=True\n",
    ")\n",
    "\n",
    "dataloader_valid = DataLoader(\n",
    "    dataset_valid,\n",
    "    batch_size=BATCH_SIZE,\n",
    "    shuffle=False\n",
    ")"
   ]
  },
  {
   "cell_type": "markdown",
   "id": "bcbc0585",
   "metadata": {},
   "source": [
    "Выведение одного изображения из обучающего датасета:"
   ]
  },
  {
   "cell_type": "code",
   "execution_count": null,
   "id": "d90221d5",
   "metadata": {},
   "outputs": [],
   "source": [
    "dataset_train.display_image(1)"
   ]
  },
  {
   "cell_type": "markdown",
   "id": "b2952ce7",
   "metadata": {},
   "source": [
    "Компонент | Реализация | Описание\n",
    "-|-|-\n",
    "Тип задачи | | Мульти-классовая классификация\n",
    "Модель | `torchvision.models.resnet50` | - Предобученная нейросеть<br>- С замороженными параметрами<br>- С переопределённым классификатором\n",
    "Метрика | $ F_{\\beta} = \\frac{(1 + \\beta^2)  \\cdot precision \\cdot recall}{(\\beta^2 \\cdot precision) + recall} $<br><br>`sklearn.metrics.fbeta_score` | Гармоническое среднее (с акцентом на Recall) между:<br>- Precision (точность) - доля правильно предсказанных меток $ \\frac{TP}{TP + FP} $<br>- Recall (полнота) - доля предсказанных меток, которые действительно правильные $ \\frac{TP}{TP + FN} $\n",
    "Оптимизатор | `torch.optim.Adam` | - Адаптирует learning rate индивидуально для каждого параметра<br>- Используется только для обучаемых слоёв\n",
    "Функция потерь | `torch.nn.BCEWithLogitsLoss` | Численно стабильна. Объединяет:<br>- `torch.nn.Sigmoid` - преобразовывает выходные значения в диапазон `[0, 1]`<br>- `torch.nn.BCELoss` - измеряет разницу между истинными вероятностями и предсказанными \n",
    "Планировщик learning rate | `torch.optim.lr_scheduler.StepLR` | Стабилизация обучения, не позволяющая модели переучиваться"
   ]
  },
  {
   "cell_type": "markdown",
   "id": "207fc2a1",
   "metadata": {},
   "source": [
    "Объявление модели:"
   ]
  },
  {
   "cell_type": "code",
   "execution_count": null,
   "id": "906ad422",
   "metadata": {},
   "outputs": [],
   "source": [
    "model = models.resnet50(pretrained=True)\n",
    "\n",
    "for param in model.parameters():\n",
    "    param.requires_grad = False\n",
    "\n",
    "model.avgpool = nn.AdaptiveAvgPool2d(output_size=(1, 1))\n",
    "model.fc = nn.Sequential(\n",
    "    nn.Flatten(),\n",
    "    nn.Linear(2048, 512),\n",
    "    nn.ReLU(inplace=True),\n",
    "    nn.Dropout(0.6),\n",
    "    nn.Linear(512, len(TAGS))\n",
    ")\n",
    "model.to(DEVICE)\n",
    "\n",
    "for param in model.fc.parameters():\n",
    "    param.requires_grad = True\n",
    "\n",
    "LEARNING_RATE = 1e-4\n",
    "\n",
    "optimizer = Adam(\n",
    "    params=filter(lambda x: x.requires_grad, model.parameters()), \n",
    "    lr=LEARNING_RATE\n",
    ")\n",
    "\n",
    "lr_scheduler = StepLR(optimizer, step_size=3, gamma=0.1)\n",
    "\n",
    "tags_count = ohe_tags_train.sum(axis=0)\n",
    "pos_weight = torch.tensor(\n",
    "    data=(len(ohe_tags_train) - tags_count) / (tags_count + 1e-6),\n",
    "    dtype=torch.float32\n",
    ").to(DEVICE)\n",
    "\n",
    "loss_fn = nn.BCEWithLogitsLoss()"
   ]
  },
  {
   "cell_type": "markdown",
   "id": "4758e967",
   "metadata": {},
   "source": [
    "Выведение сводки слоёв модели:"
   ]
  },
  {
   "cell_type": "code",
   "execution_count": null,
   "id": "4406e1b3",
   "metadata": {},
   "outputs": [],
   "source": [
    "summary(model, input_size=(3, IMAGENET.get('size'), IMAGENET.get('size')), device=DEVICE)"
   ]
  },
  {
   "cell_type": "markdown",
   "id": "6634c7c0",
   "metadata": {},
   "source": [
    "Объявление функции, вычисляющей метрику:"
   ]
  },
  {
   "cell_type": "code",
   "execution_count": null,
   "id": "56d5dd74",
   "metadata": {},
   "outputs": [],
   "source": [
    "def f2_score(y_true: np.array, y_pred: np.array, threshold: float):\n",
    "    y_pred_binary = (y_pred > threshold).astype(int)\n",
    "    return fbeta_score(y_true, y_pred_binary, beta=2, average='samples')"
   ]
  },
  {
   "cell_type": "markdown",
   "id": "003b0d51",
   "metadata": {},
   "source": [
    "Обучение модели:"
   ]
  },
  {
   "cell_type": "code",
   "execution_count": null,
   "id": "75205e43",
   "metadata": {},
   "outputs": [],
   "source": [
    "loss_train, loss_valid = [], []\n",
    "score_train, score_valid = [], []\n",
    "\n",
    "loss_best, score_best = np.inf, 0.0\n",
    "epoch_best, threshold_best = 0, 0.0\n",
    "pred_best, y_best = None, None\n",
    "model_best = None\n",
    "\n",
    "EPOCHS = 3\n",
    "THRESHOLDS = np.linspace(0.1, 0.5, 9)\n",
    "\n",
    "for epoch in tqdm(range(EPOCHS), desc='Training'):\n",
    "    model.train()\n",
    "\n",
    "    loss_train_epoch, loss_valid_epoch = [], []\n",
    "    pred_train_epoch, pred_valid_epoch = [], []\n",
    "    y_train_epoch, y_valid_epoch = [], []\n",
    "\n",
    "    for X, y in tqdm(dataloader_train, leave=False, desc=f'Epoch {epoch} TRAIN'):\n",
    "        X, y = X.to(DEVICE), y.to(DEVICE)\n",
    "\n",
    "        optimizer.zero_grad()\n",
    "        pred_logits = model(X)\n",
    "        loss = loss_fn(pred_logits, y.float())\n",
    "        loss.backward()\n",
    "        optimizer.step()\n",
    "\n",
    "        with torch.no_grad():\n",
    "            pred_probs = torch.sigmoid(pred_logits)\n",
    "            loss_train_epoch.append(loss.item())\n",
    "            pred_train_epoch.extend(pred_probs.cpu().numpy())\n",
    "            y_train_epoch.extend(y.cpu().numpy())\n",
    "    \n",
    "    model.eval()\n",
    "    \n",
    "    with torch.no_grad():\n",
    "        for X, y in tqdm(dataloader_valid, leave=False, desc=f'Epoch {epoch} VALID'):\n",
    "            X, y = X.to(DEVICE), y.to(DEVICE)\n",
    "\n",
    "            pred_logits = model(X)\n",
    "            loss = loss_fn(pred_logits, y.float())\n",
    "\n",
    "            pred_probs = torch.sigmoid(pred_logits)\n",
    "            loss_valid_epoch.append(loss.item())\n",
    "            pred_valid_epoch.extend(pred_probs.cpu().numpy())\n",
    "            y_valid_epoch.extend(y.cpu().numpy())\n",
    "    \n",
    "    loss_train_avg = np.mean(loss_train_epoch)\n",
    "    loss_valid_avg = np.mean(loss_valid_epoch)\n",
    "\n",
    "    score_valid_epoch_thresholds = [\n",
    "        f2_score(np.array(y_valid_epoch), np.array(pred_valid_epoch), threshold)\n",
    "        for threshold in THRESHOLDS\n",
    "    ]\n",
    "\n",
    "    threshold_best_index = int(np.argmax(score_valid_epoch_thresholds))\n",
    "    best_threshold = THRESHOLDS[threshold_best_index]\n",
    "    score_valid_epoch = score_valid_epoch_thresholds[threshold_best_index]\n",
    "    score_train_epoch = f2_score(np.array(y_train_epoch), np.array(pred_train_epoch), best_threshold)\n",
    "\n",
    "    loss_train.append(loss_train_avg)\n",
    "    loss_valid.append(loss_valid_avg)\n",
    "    score_train.append(score_train_epoch)\n",
    "    score_valid.append(score_valid_epoch)\n",
    "\n",
    "    if score_valid_epoch > score_best:\n",
    "        score_best = score_valid_epoch\n",
    "        loss_best = loss_valid_epoch\n",
    "        pred_best = np.array(pred_valid_epoch)\n",
    "        y_best = np.array(y_valid_epoch)\n",
    "        epoch_best = epoch\n",
    "        model_best = model\n",
    "\n",
    "    print(\n",
    "        f'Epoch: {epoch}/{EPOCHS} | '\\\n",
    "        f'train loss: {round(loss_train_avg, 3)} | '\\\n",
    "        f'valid loss: {round(loss_valid_avg, 3)} | ' \\\n",
    "        f'train F2: {round(score_train_epoch, 3)} | ' \\\n",
    "        f'valid F2: {round(score_valid_epoch, 3)}'\n",
    "    )\n",
    "\n",
    "    lr_scheduler.step()\n",
    "\n",
    "result = {\n",
    "    'loss_train': loss_train,\n",
    "    'loss_valid': loss_valid,\n",
    "    'score_train': score_train,\n",
    "    'score_valid': score_valid,\n",
    "    'pred_best': pred_best,\n",
    "    'y_best': y_best,\n",
    "    'threshold_best': threshold_best,\n",
    "    'epoch_best': epoch_best,\n",
    "    'model_best': model_best\n",
    "}"
   ]
  },
  {
   "cell_type": "markdown",
   "id": "58ac52a6",
   "metadata": {},
   "source": [
    "## Тестирование"
   ]
  },
  {
   "cell_type": "markdown",
   "id": "80be93f4",
   "metadata": {},
   "source": [
    "Объявление сущностей для тестирования модели:"
   ]
  },
  {
   "cell_type": "code",
   "execution_count": null,
   "id": "2670166a",
   "metadata": {},
   "outputs": [],
   "source": [
    "ohe_tags_test = np.zeros((data_test.shape[0], 17))\n",
    "\n",
    "dataset_test = PlanetDataset(\n",
    "    data=data_test,\n",
    "    labels=ohe_tags_test,\n",
    "    path=PATH_TEST,\n",
    "    transform=transform_valid\n",
    ")\n",
    "\n",
    "dataloader_test = DataLoader(\n",
    "    dataset=dataset_test,\n",
    "    batch_size=BATCH_SIZE,\n",
    "    shuffle=False\n",
    ")"
   ]
  },
  {
   "cell_type": "markdown",
   "id": "c1d6dd42",
   "metadata": {},
   "source": [
    "Тестирование модели:"
   ]
  },
  {
   "cell_type": "code",
   "execution_count": null,
   "id": "76945e82",
   "metadata": {},
   "outputs": [],
   "source": [
    "image_test, pred_test, y_test = [], [], []\n",
    "\n",
    "model.eval()\n",
    "with torch.no_grad():\n",
    "    for X, y in tqdm(dataloader_test, leave=False, desc=f'Testing'):\n",
    "        X, y = X.to(DEVICE), y.to(DEVICE)\n",
    "\n",
    "        pred_logits = model(X)\n",
    "        pred_probs = torch.sigmoid(pred_logits)\n",
    "        \n",
    "        image_test.extend(X.cpu())\n",
    "        pred_test.extend(pred_probs.cpu().numpy())\n",
    "        y_test.extend(y.cpu().numpy())"
   ]
  },
  {
   "cell_type": "markdown",
   "id": "f0ddb698",
   "metadata": {},
   "source": [
    "Выведение изображений с предсказанными значениями:"
   ]
  },
  {
   "cell_type": "code",
   "execution_count": null,
   "id": "c636ce2c",
   "metadata": {},
   "outputs": [],
   "source": [
    "fig, axes = plt.subplots(1, 5, figsize=(10, 4))\n",
    "axes = axes.flatten()\n",
    "\n",
    "plt.suptitle('Test results\\n', fontsize=14)\n",
    "\n",
    "for index in range(5):\n",
    "    image = image_test[index].cpu().permute(1, 2, 0).numpy()\n",
    "    image = image * IMAGENET.get('std') + IMAGENET.get('mean')\n",
    "    image = np.clip(image, 0, 1)\n",
    "\n",
    "    pred_labels = (pred_test[index] > 0.2).astype(int)\n",
    "    pred_tags = [TAGS[i] for i, v in enumerate(pred_labels) if v == 1]\n",
    "\n",
    "    axes[index].text(\n",
    "        x=0.5, \n",
    "        y=1.08, \n",
    "        s='\\n'.join(pred_tags),\n",
    "        fontsize=8,\n",
    "        ha='center', \n",
    "        transform=axes[index].transAxes\n",
    "    )\n",
    "\n",
    "    axes[index].imshow(image)\n",
    "    axes[index].axis('off')\n",
    "\n",
    "plt.show()"
   ]
  },
  {
   "cell_type": "markdown",
   "id": "6caf3a9d",
   "metadata": {},
   "source": [
    "<div style=\"text-align: center; font-size: 20px; padding: 15px 0;\">\n",
    "    <a href=\"#классификация-спутниковых-снимков\" style=\"text-decoration: none; color: #296eaa; border: 2px dashed #296eaa; opacity: 0.8; border-radius: 3px; padding: 10px 80px;\">\n",
    "        Наверх ↑\n",
    "    </a>\n",
    "</div>"
   ]
  }
 ],
 "metadata": {
  "kernelspec": {
   "display_name": "Python 3",
   "language": "python",
   "name": "python3"
  },
  "language_info": {
   "codemirror_mode": {
    "name": "ipython",
    "version": 3
   },
   "file_extension": ".py",
   "mimetype": "text/x-python",
   "name": "python",
   "nbconvert_exporter": "python",
   "pygments_lexer": "ipython3",
   "version": "3.10.11"
  }
 },
 "nbformat": 4,
 "nbformat_minor": 5
}
